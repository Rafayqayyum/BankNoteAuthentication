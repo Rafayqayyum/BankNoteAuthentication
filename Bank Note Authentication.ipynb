{
 "cells": [
  {
   "cell_type": "markdown",
   "metadata": {},
   "source": [
    "# Bank Authentication\n",
    "\n",
    "\n",
    "We'll use the [Bank Authentication Data Set](https://archive.ics.uci.edu/ml/datasets/banknote+authentication) from the UCI repository.\n",
    "\n",
    "The data consists of 5 columns:\n",
    "\n",
    "* variance of Wavelet Transformed image (continuous)\n",
    "* skewness of Wavelet Transformed image (continuous)\n",
    "* curtosis of Wavelet Transformed image (continuous)\n",
    "* entropy of image (continuous)\n",
    "* class (integer)\n",
    "\n",
    "Where class indicates whether or not a Bank Note was authentic."
   ]
  },
  {
   "cell_type": "markdown",
   "metadata": {},
   "source": [
    "## Getting the Data\n",
    "\n",
    "**Using pandas to read in the bank_note_data.csv file**"
   ]
  },
  {
   "cell_type": "code",
   "execution_count": 1,
   "metadata": {},
   "outputs": [],
   "source": [
    "import pandas as pd"
   ]
  },
  {
   "cell_type": "code",
   "execution_count": 2,
   "metadata": {},
   "outputs": [],
   "source": [
    "df = pd.read_csv('bank_note_data.csv')"
   ]
  },
  {
   "cell_type": "code",
   "execution_count": 3,
   "metadata": {},
   "outputs": [
    {
     "data": {
      "text/html": [
       "<div>\n",
       "<style scoped>\n",
       "    .dataframe tbody tr th:only-of-type {\n",
       "        vertical-align: middle;\n",
       "    }\n",
       "\n",
       "    .dataframe tbody tr th {\n",
       "        vertical-align: top;\n",
       "    }\n",
       "\n",
       "    .dataframe thead th {\n",
       "        text-align: right;\n",
       "    }\n",
       "</style>\n",
       "<table border=\"1\" class=\"dataframe\">\n",
       "  <thead>\n",
       "    <tr style=\"text-align: right;\">\n",
       "      <th></th>\n",
       "      <th>Image.Var</th>\n",
       "      <th>Image.Skew</th>\n",
       "      <th>Image.Curt</th>\n",
       "      <th>Entropy</th>\n",
       "      <th>Class</th>\n",
       "    </tr>\n",
       "  </thead>\n",
       "  <tbody>\n",
       "    <tr>\n",
       "      <th>0</th>\n",
       "      <td>3.62160</td>\n",
       "      <td>8.6661</td>\n",
       "      <td>-2.8073</td>\n",
       "      <td>-0.44699</td>\n",
       "      <td>0</td>\n",
       "    </tr>\n",
       "    <tr>\n",
       "      <th>1</th>\n",
       "      <td>4.54590</td>\n",
       "      <td>8.1674</td>\n",
       "      <td>-2.4586</td>\n",
       "      <td>-1.46210</td>\n",
       "      <td>0</td>\n",
       "    </tr>\n",
       "    <tr>\n",
       "      <th>2</th>\n",
       "      <td>3.86600</td>\n",
       "      <td>-2.6383</td>\n",
       "      <td>1.9242</td>\n",
       "      <td>0.10645</td>\n",
       "      <td>0</td>\n",
       "    </tr>\n",
       "    <tr>\n",
       "      <th>3</th>\n",
       "      <td>3.45660</td>\n",
       "      <td>9.5228</td>\n",
       "      <td>-4.0112</td>\n",
       "      <td>-3.59440</td>\n",
       "      <td>0</td>\n",
       "    </tr>\n",
       "    <tr>\n",
       "      <th>4</th>\n",
       "      <td>0.32924</td>\n",
       "      <td>-4.4552</td>\n",
       "      <td>4.5718</td>\n",
       "      <td>-0.98880</td>\n",
       "      <td>0</td>\n",
       "    </tr>\n",
       "  </tbody>\n",
       "</table>\n",
       "</div>"
      ],
      "text/plain": [
       "   Image.Var  Image.Skew  Image.Curt  Entropy  Class\n",
       "0    3.62160      8.6661     -2.8073 -0.44699      0\n",
       "1    4.54590      8.1674     -2.4586 -1.46210      0\n",
       "2    3.86600     -2.6383      1.9242  0.10645      0\n",
       "3    3.45660      9.5228     -4.0112 -3.59440      0\n",
       "4    0.32924     -4.4552      4.5718 -0.98880      0"
      ]
     },
     "execution_count": 3,
     "metadata": {},
     "output_type": "execute_result"
    }
   ],
   "source": [
    "df.head()"
   ]
  },
  {
   "cell_type": "markdown",
   "metadata": {},
   "source": [
    "## Train Test Split\n",
    "\n",
    "**Creating two objects x and y which are the scaled feature values and labels respectively.**"
   ]
  },
  {
   "cell_type": "code",
   "execution_count": 4,
   "metadata": {},
   "outputs": [],
   "source": [
    "from sklearn.model_selection import train_test_split"
   ]
  },
  {
   "cell_type": "code",
   "execution_count": 5,
   "metadata": {},
   "outputs": [],
   "source": [
    "x=df.drop('Class',axis=1)\n",
    "y=df['Class']\n",
    "xtrain, xtest, ytrain, ytest = train_test_split(x, y, test_size=0.33, random_state=42)"
   ]
  },
  {
   "cell_type": "markdown",
   "metadata": {},
   "source": [
    "\n",
    "## Standard Scaling\n",
    "\n"
   ]
  },
  {
   "cell_type": "code",
   "execution_count": 6,
   "metadata": {},
   "outputs": [],
   "source": [
    "from sklearn.preprocessing import StandardScaler\n",
    "\n",
    "scaler=StandardScaler()\n",
    "scaler.fit(xtrain)\n",
    "xtrain=scaler.transform(xtrain)\n",
    "xtest=scaler.transform(xtest)"
   ]
  },
  {
   "cell_type": "markdown",
   "metadata": {},
   "source": [
    "## Creating the model"
   ]
  },
  {
   "cell_type": "code",
   "execution_count": 7,
   "metadata": {},
   "outputs": [],
   "source": [
    "from tensorflow.keras.models import Sequential"
   ]
  },
  {
   "cell_type": "code",
   "execution_count": 8,
   "metadata": {},
   "outputs": [],
   "source": [
    "\n",
    "from tensorflow.keras.callbacks import EarlyStopping\n",
    "from tensorflow.keras.layers import Dense,Dropout"
   ]
  },
  {
   "cell_type": "code",
   "execution_count": 9,
   "metadata": {},
   "outputs": [],
   "source": [
    "\n",
    "model=Sequential()\n",
    "model.add(Dense(4,activation='relu'))\n",
    "model.add(Dense(8,activation='relu'))\n",
    "#Binary classification thats why activation is sigmoid because 0 AND 1\n",
    "model.add(Dense(1,activation='sigmoid'))\n",
    "model.compile(loss='binary_crossentropy',optimizer='adam')\n"
   ]
  },
  {
   "cell_type": "code",
   "execution_count": 10,
   "metadata": {},
   "outputs": [
    {
     "name": "stdout",
     "output_type": "stream",
     "text": [
      "Epoch 1/100\n",
      "29/29 [==============================] - 5s 16ms/step - loss: 0.6564\n",
      "Epoch 2/100\n",
      "29/29 [==============================] - 0s 9ms/step - loss: 0.6321\n",
      "Epoch 3/100\n",
      "29/29 [==============================] - 0s 10ms/step - loss: 0.6027\n",
      "Epoch 4/100\n",
      "29/29 [==============================] - 0s 11ms/step - loss: 0.5675\n",
      "Epoch 5/100\n",
      "29/29 [==============================] - 0s 11ms/step - loss: 0.5264\n",
      "Epoch 6/100\n",
      "29/29 [==============================] - 0s 11ms/step - loss: 0.4823\n",
      "Epoch 7/100\n",
      "29/29 [==============================] - 0s 13ms/step - loss: 0.4367\n",
      "Epoch 8/100\n",
      "29/29 [==============================] - 0s 13ms/step - loss: 0.3923\n",
      "Epoch 9/100\n",
      "29/29 [==============================] - 0s 11ms/step - loss: 0.3499\n",
      "Epoch 10/100\n",
      "29/29 [==============================] - 0s 11ms/step - loss: 0.3117\n",
      "Epoch 11/100\n",
      "29/29 [==============================] - 0s 13ms/step - loss: 0.2768\n",
      "Epoch 12/100\n",
      "29/29 [==============================] - 0s 12ms/step - loss: 0.2460\n",
      "Epoch 13/100\n",
      "29/29 [==============================] - 0s 16ms/step - loss: 0.2189\n",
      "Epoch 14/100\n",
      "29/29 [==============================] - 0s 14ms/step - loss: 0.1955\n",
      "Epoch 15/100\n",
      "29/29 [==============================] - 0s 11ms/step - loss: 0.1755\n",
      "Epoch 16/100\n",
      "29/29 [==============================] - 0s 12ms/step - loss: 0.1587\n",
      "Epoch 17/100\n",
      "29/29 [==============================] - 0s 13ms/step - loss: 0.1440\n",
      "Epoch 18/100\n",
      "29/29 [==============================] - 1s 18ms/step - loss: 0.1316\n",
      "Epoch 19/100\n",
      "29/29 [==============================] - 0s 15ms/step - loss: 0.1207\n",
      "Epoch 20/100\n",
      "29/29 [==============================] - 0s 17ms/step - loss: 0.1114\n",
      "Epoch 21/100\n",
      "29/29 [==============================] - 1s 19ms/step - loss: 0.1033\n",
      "Epoch 22/100\n",
      "29/29 [==============================] - 0s 16ms/step - loss: 0.0959\n",
      "Epoch 23/100\n",
      "29/29 [==============================] - 0s 13ms/step - loss: 0.0897\n",
      "Epoch 24/100\n",
      "29/29 [==============================] - 0s 11ms/step - loss: 0.0843\n",
      "Epoch 25/100\n",
      "29/29 [==============================] - 0s 11ms/step - loss: 0.0794\n",
      "Epoch 26/100\n",
      "29/29 [==============================] - 0s 13ms/step - loss: 0.0752\n",
      "Epoch 27/100\n",
      "29/29 [==============================] - 0s 12ms/step - loss: 0.0712\n",
      "Epoch 28/100\n",
      "29/29 [==============================] - 0s 14ms/step - loss: 0.0676\n",
      "Epoch 29/100\n",
      "29/29 [==============================] - 0s 13ms/step - loss: 0.0643\n",
      "Epoch 30/100\n",
      "29/29 [==============================] - 0s 12ms/step - loss: 0.0614\n",
      "Epoch 31/100\n",
      "29/29 [==============================] - 0s 14ms/step - loss: 0.0586\n",
      "Epoch 32/100\n",
      "29/29 [==============================] - 0s 12ms/step - loss: 0.0561\n",
      "Epoch 33/100\n",
      "29/29 [==============================] - 0s 13ms/step - loss: 0.0538\n",
      "Epoch 34/100\n",
      "29/29 [==============================] - 0s 13ms/step - loss: 0.0516\n",
      "Epoch 35/100\n",
      "29/29 [==============================] - 0s 14ms/step - loss: 0.0495\n",
      "Epoch 36/100\n",
      "29/29 [==============================] - 0s 14ms/step - loss: 0.0476\n",
      "Epoch 37/100\n",
      "29/29 [==============================] - 0s 13ms/step - loss: 0.0458\n",
      "Epoch 38/100\n",
      "29/29 [==============================] - 0s 10ms/step - loss: 0.0440\n",
      "Epoch 39/100\n",
      "29/29 [==============================] - 0s 10ms/step - loss: 0.0424\n",
      "Epoch 40/100\n",
      "29/29 [==============================] - 0s 11ms/step - loss: 0.0408\n",
      "Epoch 41/100\n",
      "29/29 [==============================] - 0s 11ms/step - loss: 0.0394\n",
      "Epoch 42/100\n",
      "29/29 [==============================] - 0s 10ms/step - loss: 0.0380\n",
      "Epoch 43/100\n",
      "29/29 [==============================] - 0s 10ms/step - loss: 0.0368\n",
      "Epoch 44/100\n",
      "29/29 [==============================] - 0s 10ms/step - loss: 0.0355\n",
      "Epoch 45/100\n",
      "29/29 [==============================] - 0s 11ms/step - loss: 0.0343\n",
      "Epoch 46/100\n",
      "29/29 [==============================] - 0s 9ms/step - loss: 0.0332\n",
      "Epoch 47/100\n",
      "29/29 [==============================] - 0s 9ms/step - loss: 0.0322\n",
      "Epoch 48/100\n",
      "29/29 [==============================] - 0s 10ms/step - loss: 0.0311\n",
      "Epoch 49/100\n",
      "29/29 [==============================] - 0s 10ms/step - loss: 0.0302\n",
      "Epoch 50/100\n",
      "29/29 [==============================] - 0s 11ms/step - loss: 0.0292\n",
      "Epoch 51/100\n",
      "29/29 [==============================] - 0s 11ms/step - loss: 0.0286\n",
      "Epoch 52/100\n",
      "29/29 [==============================] - 0s 11ms/step - loss: 0.0276\n",
      "Epoch 53/100\n",
      "29/29 [==============================] - 0s 11ms/step - loss: 0.0268\n",
      "Epoch 54/100\n",
      "29/29 [==============================] - 0s 17ms/step - loss: 0.0260\n",
      "Epoch 55/100\n",
      "29/29 [==============================] - 0s 11ms/step - loss: 0.0252\n",
      "Epoch 56/100\n",
      "29/29 [==============================] - 0s 14ms/step - loss: 0.0246\n",
      "Epoch 57/100\n",
      "29/29 [==============================] - 0s 14ms/step - loss: 0.0238\n",
      "Epoch 58/100\n",
      "29/29 [==============================] - 0s 14ms/step - loss: 0.0230\n",
      "Epoch 59/100\n",
      "29/29 [==============================] - 0s 12ms/step - loss: 0.0224\n",
      "Epoch 60/100\n",
      "29/29 [==============================] - 0s 12ms/step - loss: 0.0215\n",
      "Epoch 61/100\n",
      "29/29 [==============================] - 0s 9ms/step - loss: 0.0209\n",
      "Epoch 62/100\n",
      "29/29 [==============================] - 0s 10ms/step - loss: 0.0201\n",
      "Epoch 63/100\n",
      "29/29 [==============================] - 0s 10ms/step - loss: 0.0195\n",
      "Epoch 64/100\n",
      "29/29 [==============================] - 0s 12ms/step - loss: 0.0188\n",
      "Epoch 65/100\n",
      "29/29 [==============================] - 0s 10ms/step - loss: 0.0183\n",
      "Epoch 66/100\n",
      "29/29 [==============================] - 0s 11ms/step - loss: 0.0176\n",
      "Epoch 67/100\n",
      "29/29 [==============================] - 0s 11ms/step - loss: 0.0171\n",
      "Epoch 68/100\n",
      "29/29 [==============================] - 0s 11ms/step - loss: 0.0166\n",
      "Epoch 69/100\n",
      "29/29 [==============================] - 0s 11ms/step - loss: 0.0160\n",
      "Epoch 70/100\n",
      "29/29 [==============================] - 0s 10ms/step - loss: 0.0156\n",
      "Epoch 71/100\n",
      "29/29 [==============================] - 0s 9ms/step - loss: 0.0153\n",
      "Epoch 72/100\n",
      "29/29 [==============================] - 0s 10ms/step - loss: 0.0149\n",
      "Epoch 73/100\n",
      "29/29 [==============================] - 0s 10ms/step - loss: 0.0143\n",
      "Epoch 74/100\n",
      "29/29 [==============================] - 0s 11ms/step - loss: 0.0139\n",
      "Epoch 75/100\n",
      "29/29 [==============================] - 0s 10ms/step - loss: 0.0136\n",
      "Epoch 76/100\n",
      "29/29 [==============================] - 0s 11ms/step - loss: 0.0131\n",
      "Epoch 77/100\n",
      "29/29 [==============================] - 0s 11ms/step - loss: 0.0128\n",
      "Epoch 78/100\n",
      "29/29 [==============================] - 0s 12ms/step - loss: 0.0124\n",
      "Epoch 79/100\n",
      "29/29 [==============================] - 0s 11ms/step - loss: 0.0121\n",
      "Epoch 80/100\n",
      "29/29 [==============================] - 0s 11ms/step - loss: 0.0119\n",
      "Epoch 81/100\n",
      "29/29 [==============================] - 0s 9ms/step - loss: 0.0116\n",
      "Epoch 82/100\n",
      "29/29 [==============================] - 0s 9ms/step - loss: 0.0112\n",
      "Epoch 83/100\n",
      "29/29 [==============================] - 0s 9ms/step - loss: 0.0110\n",
      "Epoch 84/100\n",
      "29/29 [==============================] - 0s 10ms/step - loss: 0.0107\n",
      "Epoch 85/100\n",
      "29/29 [==============================] - 0s 9ms/step - loss: 0.0104\n",
      "Epoch 86/100\n",
      "29/29 [==============================] - 0s 10ms/step - loss: 0.0101\n",
      "Epoch 87/100\n",
      "29/29 [==============================] - 0s 10ms/step - loss: 0.0099\n",
      "Epoch 88/100\n",
      "29/29 [==============================] - 0s 10ms/step - loss: 0.0097\n",
      "Epoch 89/100\n",
      "29/29 [==============================] - 0s 11ms/step - loss: 0.0095\n",
      "Epoch 90/100\n",
      "29/29 [==============================] - 0s 11ms/step - loss: 0.0092\n",
      "Epoch 91/100\n",
      "29/29 [==============================] - 0s 9ms/step - loss: 0.0090\n",
      "Epoch 92/100\n",
      "29/29 [==============================] - 0s 9ms/step - loss: 0.0088\n",
      "Epoch 93/100\n",
      "29/29 [==============================] - 0s 10ms/step - loss: 0.0086\n",
      "Epoch 94/100\n",
      "29/29 [==============================] - 0s 10ms/step - loss: 0.0083\n",
      "Epoch 95/100\n",
      "29/29 [==============================] - 0s 9ms/step - loss: 0.0081\n",
      "Epoch 96/100\n",
      "29/29 [==============================] - 0s 9ms/step - loss: 0.0080\n",
      "Epoch 97/100\n",
      "29/29 [==============================] - 0s 10ms/step - loss: 0.0078\n",
      "Epoch 98/100\n",
      "29/29 [==============================] - 0s 10ms/step - loss: 0.0076\n",
      "Epoch 99/100\n",
      "29/29 [==============================] - 0s 10ms/step - loss: 0.0074\n",
      "Epoch 100/100\n",
      "29/29 [==============================] - 0s 11ms/step - loss: 0.0072\n"
     ]
    },
    {
     "data": {
      "text/plain": [
       "<keras.callbacks.History at 0x1dce0bb9c40>"
      ]
     },
     "execution_count": 10,
     "metadata": {},
     "output_type": "execute_result"
    }
   ],
   "source": [
    "model.fit(x=xtrain,y=ytrain, epochs=100)"
   ]
  },
  {
   "cell_type": "code",
   "execution_count": 11,
   "metadata": {},
   "outputs": [],
   "source": [
    "model_loss=pd.DataFrame(model.history.history)"
   ]
  },
  {
   "cell_type": "code",
   "execution_count": 12,
   "metadata": {},
   "outputs": [
    {
     "data": {
      "text/plain": [
       "<AxesSubplot:>"
      ]
     },
     "execution_count": 12,
     "metadata": {},
     "output_type": "execute_result"
    },
    {
     "data": {
      "image/png": "[encoded data removed]",
      "text/plain": [
       "<Figure size 432x288 with 1 Axes>"
      ]
     },
     "metadata": {
      "needs_background": "light"
     },
     "output_type": "display_data"
    }
   ],
   "source": [
    "\n",
    "model_loss.plot()"
   ]
  },
  {
   "cell_type": "markdown",
   "metadata": {},
   "source": [
    "## Model Evaluation"
   ]
  },
  {
   "cell_type": "code",
   "execution_count": 13,
   "metadata": {},
   "outputs": [
    {
     "name": "stdout",
     "output_type": "stream",
     "text": [
      "15/15 [==============================] - 0s 6ms/step\n"
     ]
    }
   ],
   "source": [
    "pred=(model.predict(xtest) > 0.5).astype(\"int32\")"
   ]
  },
  {
   "cell_type": "code",
   "execution_count": 14,
   "metadata": {},
   "outputs": [],
   "source": [
    "from sklearn.metrics import classification_report,confusion_matrix"
   ]
  },
  {
   "cell_type": "code",
   "execution_count": 15,
   "metadata": {},
   "outputs": [
    {
     "name": "stdout",
     "output_type": "stream",
     "text": [
      "15/15 [==============================] - 0s 4ms/step\n"
     ]
    }
   ],
   "source": [
    "pred=(model.predict(xtest) > 0.5).astype(\"int32\")"
   ]
  },
  {
   "cell_type": "code",
   "execution_count": 16,
   "metadata": {},
   "outputs": [
    {
     "name": "stdout",
     "output_type": "stream",
     "text": [
      "[[257   0]\n",
      " [  0 196]]\n",
      "\n",
      "\n",
      "              precision    recall  f1-score   support\n",
      "\n",
      "           0       1.00      1.00      1.00       257\n",
      "           1       1.00      1.00      1.00       196\n",
      "\n",
      "    accuracy                           1.00       453\n",
      "   macro avg       1.00      1.00      1.00       453\n",
      "weighted avg       1.00      1.00      1.00       453\n",
      "\n"
     ]
    }
   ],
   "source": [
    "print(confusion_matrix(ytest,pred))\n",
    "print('\\n')\n",
    "print(classification_report(ytest,pred))"
   ]
  }
 ],
 "metadata": {
  "kernelspec": {
   "display_name": "Python 3 (ipykernel)",
   "language": "python",
   "name": "python3"
  },
  "language_info": {
   "codemirror_mode": {
    "name": "ipython",
    "version": 3
   },
   "file_extension": ".py",
   "mimetype": "text/x-python",
   "name": "python",
   "nbconvert_exporter": "python",
   "pygments_lexer": "ipython3",
   "version": "3.9.7"
  }
 },
 "nbformat": 4,
 "nbformat_minor": 1
}
